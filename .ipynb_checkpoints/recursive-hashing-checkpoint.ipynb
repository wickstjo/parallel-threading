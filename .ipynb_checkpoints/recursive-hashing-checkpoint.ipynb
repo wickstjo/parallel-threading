{
 "cells": [
  {
   "cell_type": "code",
   "execution_count": 1,
   "metadata": {},
   "outputs": [],
   "source": [
    "import time\n",
    "import hashlib\n",
    "import math"
   ]
  },
  {
   "cell_type": "code",
   "execution_count": 2,
   "metadata": {},
   "outputs": [
    {
     "name": "stdout",
     "output_type": "stream",
     "text": [
      "Importing Jupyter notebook from utils.ipynb\n"
     ]
    }
   ],
   "source": [
    "import nbimporter\n",
    "import utils"
   ]
  },
  {
   "cell_type": "markdown",
   "metadata": {},
   "source": [
    "#### CREATE PASSWORDS"
   ]
  },
  {
   "cell_type": "code",
   "execution_count": 3,
   "metadata": {
    "scrolled": true
   },
   "outputs": [],
   "source": [
    "permutations = utils.generate_passwords(length=2)"
   ]
  },
  {
   "cell_type": "markdown",
   "metadata": {},
   "source": [
    "#### PROCESS WITH RECURSIVE HASHING -- CPU BOUND"
   ]
  },
  {
   "cell_type": "code",
   "execution_count": 4,
   "metadata": {},
   "outputs": [],
   "source": [
    "def hash_recurs(input_string, n_times=4000):\n",
    "    \n",
    "    # FORMAT\n",
    "    encoder_format = 'utf-8'\n",
    "    \n",
    "    # ENCODE INITIAL DATA\n",
    "    output = input_string.encode(encoder_format)\n",
    "    \n",
    "    # HASH RECURSIVELY\n",
    "    for _ in range(n_times):\n",
    "        output = hashlib.sha256(output).hexdigest().encode(encoder_format)\n",
    "        \n",
    "    return output.decode(encoder_format)"
   ]
  },
  {
   "cell_type": "markdown",
   "metadata": {},
   "source": [
    "#### BASELINE"
   ]
  },
  {
   "cell_type": "code",
   "execution_count": 16,
   "metadata": {},
   "outputs": [
    {
     "name": "stdout",
     "output_type": "stream",
     "text": [
      "TOTAL:\t 3.963\n",
      "AVG:\t 0.003\n"
     ]
    }
   ],
   "source": [
    "utils.baseline(\n",
    "    func=hash_recurs,\n",
    "    params=permutations\n",
    ")"
   ]
  },
  {
   "cell_type": "markdown",
   "metadata": {},
   "source": [
    "#### PARALLEL"
   ]
  },
  {
   "cell_type": "code",
   "execution_count": 18,
   "metadata": {},
   "outputs": [
    {
     "name": "stdout",
     "output_type": "stream",
     "text": [
      "TOTAL:\t 0.722\n",
      "AVG:\t 0.001\n"
     ]
    }
   ],
   "source": [
    "utils.wrapper(\n",
    "    func=hash_recurs,\n",
    "    params=permutations,\n",
    "    parallel=True\n",
    ")"
   ]
  },
  {
   "cell_type": "markdown",
   "metadata": {},
   "source": [
    "#### THREADING"
   ]
  },
  {
   "cell_type": "code",
   "execution_count": 19,
   "metadata": {},
   "outputs": [
    {
     "name": "stdout",
     "output_type": "stream",
     "text": [
      "TOTAL:\t 4.939\n",
      "AVG:\t 0.004\n"
     ]
    }
   ],
   "source": [
    "utils.wrapper(\n",
    "    func=hash_recurs,\n",
    "    params=permutations,\n",
    "    parallel=False\n",
    ")"
   ]
  },
  {
   "cell_type": "code",
   "execution_count": null,
   "metadata": {},
   "outputs": [],
   "source": []
  },
  {
   "cell_type": "code",
   "execution_count": 23,
   "metadata": {},
   "outputs": [],
   "source": [
    "import random\n",
    "import string"
   ]
  },
  {
   "cell_type": "code",
   "execution_count": 30,
   "metadata": {},
   "outputs": [],
   "source": [
    "def generate_datasets(lengths):\n",
    "    \n",
    "    # CHARSET FOR RANDOM WORD\n",
    "    charset = string.ascii_lowercase\n",
    "    dataset = []\n",
    "    \n",
    "    for dataset_length in lengths:\n",
    "        temp = []\n",
    "        \n",
    "        for word_count in range(dataset_length):\n",
    "            word = ''.join(random.choice(charset) for i in range(5))\n",
    "            temp.append(word)\n",
    "            \n",
    "        dataset.append(temp)\n",
    "        \n",
    "    return dataset"
   ]
  },
  {
   "cell_type": "code",
   "execution_count": 66,
   "metadata": {},
   "outputs": [],
   "source": [
    "def create_jumps(n_jumps):\n",
    "    \n",
    "    # HELPERS\n",
    "    container = [10]\n",
    "    current = 10\n",
    "    \n",
    "    # REPEATEDLY MULTIPLY BY 2\n",
    "    for _ in range(n_jumps-1):\n",
    "        current *= 2\n",
    "        container.append(current)\n",
    "        \n",
    "    return container"
   ]
  },
  {
   "cell_type": "code",
   "execution_count": 67,
   "metadata": {},
   "outputs": [],
   "source": [
    "def foobar(n_rounds):\n",
    "    \n",
    "    # CREATE JUMPS & DATASETS\n",
    "    jumps = create_jumps(n_rounds)\n",
    "    datasets = generate_datasets(jumps)\n",
    "    \n",
    "    # RESULT CONTAINER\n",
    "    results = []\n",
    "    \n",
    "    for dataset in datasets:\n",
    "        time_taken = utils.wrapper(\n",
    "            func=hash_recurs,\n",
    "            params=dataset,\n",
    "            parallel=True\n",
    "        )\n",
    "        \n",
    "        print('NTH ROUND:\\t', time_taken)\n",
    "        \n",
    "        results.append(time_taken)\n",
    "        \n",
    "    return results"
   ]
  },
  {
   "cell_type": "code",
   "execution_count": 73,
   "metadata": {},
   "outputs": [
    {
     "name": "stdout",
     "output_type": "stream",
     "text": [
      "NTH ROUND:\t 0.097\n",
      "NTH ROUND:\t 0.112\n",
      "NTH ROUND:\t 0.12\n",
      "NTH ROUND:\t 0.141\n",
      "NTH ROUND:\t 0.171\n",
      "NTH ROUND:\t 0.264\n",
      "NTH ROUND:\t 0.423\n",
      "NTH ROUND:\t 0.762\n",
      "NTH ROUND:\t 1.387\n",
      "NTH ROUND:\t 2.693\n",
      "NTH ROUND:\t 5.284\n",
      "NTH ROUND:\t 10.401\n",
      "NTH ROUND:\t 20.647\n",
      "NTH ROUND:\t 40.698\n",
      "NTH ROUND:\t 81.465\n"
     ]
    }
   ],
   "source": [
    "dataset = foobar(15)"
   ]
  },
  {
   "cell_type": "code",
   "execution_count": 74,
   "metadata": {},
   "outputs": [
    {
     "data": {
      "image/png": "[encoded data removed]",
      "text/plain": [
       "<Figure size 1152x432 with 1 Axes>"
      ]
     },
     "metadata": {
      "needs_background": "light"
     },
     "output_type": "display_data"
    }
   ],
   "source": [
    "utils.plt_visualize(dataset)"
   ]
  },
  {
   "cell_type": "code",
   "execution_count": 75,
   "metadata": {},
   "outputs": [
    {
     "data": {
      "image/png": "[encoded data removed]",
      "text/plain": [
       "<Figure size 432x288 with 1 Axes>"
      ]
     },
     "metadata": {
      "needs_background": "light"
     },
     "output_type": "display_data"
    }
   ],
   "source": [
    "bar_chart(dataset)"
   ]
  },
  {
   "cell_type": "code",
   "execution_count": null,
   "metadata": {},
   "outputs": [],
   "source": []
  },
  {
   "cell_type": "code",
   "execution_count": 15,
   "metadata": {},
   "outputs": [],
   "source": [
    "import matplotlib.pyplot as plt"
   ]
  },
  {
   "cell_type": "code",
   "execution_count": 16,
   "metadata": {},
   "outputs": [],
   "source": [
    "def bar_chart(dataset):\n",
    "    \n",
    "    labels = [x for x in range(len(dataset))]\n",
    "    \n",
    "    fig = plt.figure()\n",
    "    ax = fig.add_axes([0,0,1,1])\n",
    "\n",
    "    ax.bar(labels, dataset)\n",
    "    plt.show()"
   ]
  },
  {
   "cell_type": "code",
   "execution_count": 71,
   "metadata": {},
   "outputs": [
    {
     "data": {
      "image/png": "[encoded data removed]",
      "text/plain": [
       "<Figure size 432x288 with 1 Axes>"
      ]
     },
     "metadata": {
      "needs_background": "light"
     },
     "output_type": "display_data"
    }
   ],
   "source": [
    "bar_chart(dataset)"
   ]
  },
  {
   "cell_type": "code",
   "execution_count": null,
   "metadata": {},
   "outputs": [],
   "source": []
  },
  {
   "cell_type": "code",
   "execution_count": null,
   "metadata": {},
   "outputs": [],
   "source": []
  },
  {
   "cell_type": "code",
   "execution_count": null,
   "metadata": {},
   "outputs": [],
   "source": []
  },
  {
   "cell_type": "code",
   "execution_count": null,
   "metadata": {},
   "outputs": [],
   "source": []
  },
  {
   "cell_type": "code",
   "execution_count": null,
   "metadata": {},
   "outputs": [],
   "source": []
  },
  {
   "cell_type": "code",
   "execution_count": null,
   "metadata": {},
   "outputs": [],
   "source": []
  },
  {
   "cell_type": "code",
   "execution_count": null,
   "metadata": {},
   "outputs": [],
   "source": []
  },
  {
   "cell_type": "code",
   "execution_count": null,
   "metadata": {},
   "outputs": [],
   "source": []
  },
  {
   "cell_type": "code",
   "execution_count": null,
   "metadata": {},
   "outputs": [],
   "source": []
  },
  {
   "cell_type": "code",
   "execution_count": null,
   "metadata": {},
   "outputs": [],
   "source": []
  },
  {
   "cell_type": "code",
   "execution_count": null,
   "metadata": {},
   "outputs": [],
   "source": []
  },
  {
   "cell_type": "code",
   "execution_count": null,
   "metadata": {},
   "outputs": [],
   "source": []
  },
  {
   "cell_type": "code",
   "execution_count": null,
   "metadata": {},
   "outputs": [],
   "source": []
  },
  {
   "cell_type": "code",
   "execution_count": null,
   "metadata": {},
   "outputs": [],
   "source": []
  }
 ],
 "metadata": {
  "kernelspec": {
   "display_name": "Python 3",
   "language": "python",
   "name": "python3"
  },
  "language_info": {
   "codemirror_mode": {
    "name": "ipython",
    "version": 3
   },
   "file_extension": ".py",
   "mimetype": "text/x-python",
   "name": "python",
   "nbconvert_exporter": "python",
   "pygments_lexer": "ipython3",
   "version": "3.8.10"
  }
 },
 "nbformat": 4,
 "nbformat_minor": 4
}
