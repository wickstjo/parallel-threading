{
 "cells": [
  {
   "cell_type": "code",
   "execution_count": 20,
   "metadata": {},
   "outputs": [],
   "source": [
    "import concurrent.futures\n",
    "from multiprocessing import Lock, cpu_count\n",
    "import string\n",
    "import itertools\n",
    "import time\n",
    "import numpy as np\n",
    "import math"
   ]
  },
  {
   "cell_type": "code",
   "execution_count": 18,
   "metadata": {},
   "outputs": [],
   "source": [
    "import matplotlib.pyplot as plt\n",
    "import plotly.graph_objs as go"
   ]
  },
  {
   "cell_type": "markdown",
   "metadata": {},
   "source": [
    "#### TIMER"
   ]
  },
  {
   "cell_type": "code",
   "execution_count": 5,
   "metadata": {},
   "outputs": [],
   "source": [
    "class create_timer():\n",
    "    \n",
    "    # START TIMER\n",
    "    def __init__(self, name):\n",
    "        self.start = time.perf_counter()\n",
    "        \n",
    "    # FINISH TIMER\n",
    "    def finish(self):\n",
    "        self.end = time.perf_counter()\n",
    "        self.difference()\n",
    "\n",
    "    # PRINT DIFFERENCE\n",
    "    def difference(self):\n",
    "        self.delta = round(self.end-self.start, 3)"
   ]
  },
  {
   "cell_type": "markdown",
   "metadata": {},
   "source": [
    "#### VISUALIZE DATA"
   ]
  },
  {
   "cell_type": "code",
   "execution_count": 3,
   "metadata": {},
   "outputs": [],
   "source": [
    "def plt_visualize(dataset):\n",
    "    \n",
    "    # LABELS\n",
    "    labels = [x for x in range(len(dataset))]\n",
    "\n",
    "    plt.figure(figsize=(16, 6))\n",
    "    plt.plot(labels, dataset, linestyle='-', marker='')\n",
    "        \n",
    "    plt.grid(True)\n",
    "    plt.show()"
   ]
  },
  {
   "cell_type": "code",
   "execution_count": 4,
   "metadata": {},
   "outputs": [],
   "source": [
    "def plotly_g(dataset):\n",
    "    \n",
    "    # CREATE LABELS\n",
    "    labels = [x for x in range(len(dataset))]\n",
    "\n",
    "    # PLOT CONTAINER\n",
    "    structure = []\n",
    "    \n",
    "    # LINE COLOURS\n",
    "    colors = ['#e75f5b', '#52af52', '#403638', '#a93581', '#005073', '#f2ae42']\n",
    "    \n",
    "    # APPEND DOT CHART\n",
    "    structure.append(go.Scatter(\n",
    "        mode='line',\n",
    "        x=labels,\n",
    "        y=dataset,\n",
    "        line=dict(width=1),\n",
    "        marker=dict(color=colors[0]),\n",
    "        opacity=0.6,\n",
    "        yaxis='y2'\n",
    "    ))\n",
    "        \n",
    "\n",
    "    # LAYOUT PARAMS\n",
    "    layout = go.Layout(\n",
    "        yaxis = dict(domain = [0, 0.2],\n",
    "        showticklabels=False),\n",
    "        margin=dict(l=20, r=20, t=20, b=20)\n",
    "    )\n",
    "    \n",
    "    # CREATE THE FIGURE\n",
    "    fig = go.Figure(\n",
    "        data=structure,\n",
    "        layout=layout\n",
    "    )\n",
    "    \n",
    "    # FINALLY SHOW THE GRAPH\n",
    "    fig.show()"
   ]
  },
  {
   "cell_type": "markdown",
   "metadata": {},
   "source": [
    "#### RUNTIME WRAPPER"
   ]
  },
  {
   "cell_type": "code",
   "execution_count": 25,
   "metadata": {},
   "outputs": [],
   "source": [
    "def wrapper(func, params, parallel=False):\n",
    "    \n",
    "    # USE MULTI-THREADING BY DEFAULT\n",
    "    method = concurrent.futures.ThreadPoolExecutor\n",
    "    \n",
    "    # USE PARALLEL PROCESSING WHEN REQUESTED\n",
    "    if parallel:\n",
    "        method = concurrent.futures.ProcessPoolExecutor\n",
    "        \n",
    "    # CREATE MUTEX\n",
    "    # mutex = Lock()\n",
    "    # mutex.acquire()\n",
    "    # mutex.release()\n",
    "    \n",
    "    # START TIMER\n",
    "    timer = create_timer('WRAPPER')\n",
    "    \n",
    "    # EXECUTE FUNCS\n",
    "    with method() as executor:\n",
    "        results = executor.map(func, params)\n",
    "\n",
    "    # END TIMER\n",
    "    timer.finish()\n",
    "    \n",
    "    print('DURATION:\\t', round(timer.delta, 3))"
   ]
  },
  {
   "cell_type": "code",
   "execution_count": 26,
   "metadata": {},
   "outputs": [],
   "source": [
    "def baseline(func, params):\n",
    "    \n",
    "    # START TIMER\n",
    "    timer = create_timer('BASELINE')\n",
    "\n",
    "    # RUN EACH PARAM\n",
    "    for value in params:\n",
    "        block = func(value)\n",
    "\n",
    "    # END TIMER\n",
    "    timer.finish()\n",
    "    \n",
    "    print('DURATION:\\t', round(timer.delta, 3))"
   ]
  },
  {
   "cell_type": "markdown",
   "metadata": {},
   "source": [
    "#### GENERATE PASSWORD PERMUTATIONS"
   ]
  },
  {
   "cell_type": "code",
   "execution_count": 5,
   "metadata": {},
   "outputs": [],
   "source": [
    "def generate_passwords(length):\n",
    "\n",
    "    # CONTAINER\n",
    "    container = []\n",
    "    \n",
    "    # CHARSET\n",
    "    charset = string.digits + string.ascii_lowercase\n",
    "    \n",
    "    # LOOP THROUGH EACH PERMUTATION\n",
    "    for combination in itertools.product(*[charset] * length):  \n",
    "        word = ''.join(combination)\n",
    "        container.append(word)\n",
    "        \n",
    "    return container"
   ]
  },
  {
   "cell_type": "code",
   "execution_count": 6,
   "metadata": {},
   "outputs": [],
   "source": [
    "def split(dataset, n_splits):\n",
    "    \n",
    "    # CONTAINER\n",
    "    container = []\n",
    "    \n",
    "    # SEGMENT SIZE & CURRENT INDEX\n",
    "    segment_length = math.ceil(len(dataset) / n_splits)\n",
    "    current_index = 0\n",
    "    \n",
    "    # LOOP THROUGH\n",
    "    for nth in range(n_splits):\n",
    "        \n",
    "        # CATCH LAST ROUND\n",
    "        if nth == n_splits-1:\n",
    "            batch = dataset[current_index:]\n",
    "            container.append(batch)\n",
    "            continue\n",
    "        \n",
    "        # OTHERWISE..\n",
    "        next_index = current_index+segment_length\n",
    "        batch = dataset[current_index:next_index]\n",
    "        container.append(batch)\n",
    "        current_index = next_index\n",
    "\n",
    "    return container"
   ]
  },
  {
   "cell_type": "code",
   "execution_count": null,
   "metadata": {},
   "outputs": [],
   "source": []
  },
  {
   "cell_type": "code",
   "execution_count": null,
   "metadata": {},
   "outputs": [],
   "source": []
  },
  {
   "cell_type": "code",
   "execution_count": null,
   "metadata": {},
   "outputs": [],
   "source": []
  },
  {
   "cell_type": "code",
   "execution_count": null,
   "metadata": {},
   "outputs": [],
   "source": []
  },
  {
   "cell_type": "code",
   "execution_count": null,
   "metadata": {},
   "outputs": [],
   "source": []
  },
  {
   "cell_type": "code",
   "execution_count": null,
   "metadata": {},
   "outputs": [],
   "source": []
  },
  {
   "cell_type": "code",
   "execution_count": null,
   "metadata": {},
   "outputs": [],
   "source": []
  },
  {
   "cell_type": "code",
   "execution_count": null,
   "metadata": {},
   "outputs": [],
   "source": []
  },
  {
   "cell_type": "code",
   "execution_count": null,
   "metadata": {},
   "outputs": [],
   "source": []
  },
  {
   "cell_type": "code",
   "execution_count": null,
   "metadata": {},
   "outputs": [],
   "source": []
  },
  {
   "cell_type": "code",
   "execution_count": null,
   "metadata": {},
   "outputs": [],
   "source": []
  },
  {
   "cell_type": "code",
   "execution_count": null,
   "metadata": {},
   "outputs": [],
   "source": []
  },
  {
   "cell_type": "code",
   "execution_count": null,
   "metadata": {},
   "outputs": [],
   "source": []
  },
  {
   "cell_type": "code",
   "execution_count": null,
   "metadata": {},
   "outputs": [],
   "source": []
  },
  {
   "cell_type": "code",
   "execution_count": null,
   "metadata": {},
   "outputs": [],
   "source": []
  },
  {
   "cell_type": "code",
   "execution_count": null,
   "metadata": {},
   "outputs": [],
   "source": []
  },
  {
   "cell_type": "code",
   "execution_count": null,
   "metadata": {},
   "outputs": [],
   "source": []
  },
  {
   "cell_type": "code",
   "execution_count": null,
   "metadata": {},
   "outputs": [],
   "source": []
  },
  {
   "cell_type": "code",
   "execution_count": null,
   "metadata": {},
   "outputs": [],
   "source": []
  },
  {
   "cell_type": "code",
   "execution_count": null,
   "metadata": {},
   "outputs": [],
   "source": []
  },
  {
   "cell_type": "code",
   "execution_count": null,
   "metadata": {},
   "outputs": [],
   "source": []
  },
  {
   "cell_type": "code",
   "execution_count": null,
   "metadata": {},
   "outputs": [],
   "source": []
  },
  {
   "cell_type": "code",
   "execution_count": null,
   "metadata": {},
   "outputs": [],
   "source": []
  },
  {
   "cell_type": "code",
   "execution_count": null,
   "metadata": {},
   "outputs": [],
   "source": []
  },
  {
   "cell_type": "code",
   "execution_count": null,
   "metadata": {},
   "outputs": [],
   "source": []
  }
 ],
 "metadata": {
  "kernelspec": {
   "display_name": "Python 3",
   "language": "python",
   "name": "python3"
  },
  "language_info": {
   "codemirror_mode": {
    "name": "ipython",
    "version": 3
   },
   "file_extension": ".py",
   "mimetype": "text/x-python",
   "name": "python",
   "nbconvert_exporter": "python",
   "pygments_lexer": "ipython3",
   "version": "3.8.10"
  }
 },
 "nbformat": 4,
 "nbformat_minor": 4
}
