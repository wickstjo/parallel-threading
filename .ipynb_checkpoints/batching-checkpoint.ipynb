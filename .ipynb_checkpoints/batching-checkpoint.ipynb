{
 "cells": [
  {
   "cell_type": "code",
   "execution_count": 1,
   "metadata": {},
   "outputs": [],
   "source": [
    "import time\n",
    "import hashlib\n",
    "import math"
   ]
  },
  {
   "cell_type": "code",
   "execution_count": 2,
   "metadata": {},
   "outputs": [
    {
     "name": "stdout",
     "output_type": "stream",
     "text": [
      "Importing Jupyter notebook from utils.ipynb\n"
     ]
    }
   ],
   "source": [
    "import nbimporter\n",
    "import utils"
   ]
  },
  {
   "cell_type": "markdown",
   "metadata": {},
   "source": [
    "#### GENERATE PASSWORD PERMUTATIONS & SPLIT THEM INTO BATCHES"
   ]
  },
  {
   "cell_type": "code",
   "execution_count": 3,
   "metadata": {},
   "outputs": [],
   "source": [
    "low_perms = utils.generate_passwords(length=3)"
   ]
  },
  {
   "cell_type": "code",
   "execution_count": 4,
   "metadata": {},
   "outputs": [],
   "source": [
    "high_perms = utils.generate_passwords(length=5)"
   ]
  },
  {
   "cell_type": "markdown",
   "metadata": {},
   "source": [
    "#### PROCESS IN BATCHES"
   ]
  },
  {
   "cell_type": "code",
   "execution_count": 5,
   "metadata": {},
   "outputs": [],
   "source": [
    "def process_batch(batch):\n",
    "    \n",
    "    # LOOP THROUGH BATCH\n",
    "    for value in batch:\n",
    "\n",
    "        # ENCODE AND HASH\n",
    "        encoded = value.encode('utf-8')\n",
    "        hashed = hashlib.sha256(encoded).hexdigest()"
   ]
  },
  {
   "cell_type": "markdown",
   "metadata": {},
   "source": [
    "#### LOW PERMUTATIONS, LOW BATCHES"
   ]
  },
  {
   "cell_type": "code",
   "execution_count": 6,
   "metadata": {
    "scrolled": false
   },
   "outputs": [
    {
     "name": "stdout",
     "output_type": "stream",
     "text": [
      "DURATION:\t 0.028\n"
     ]
    }
   ],
   "source": [
    "utils.baseline(\n",
    "    func=process_batch,\n",
    "    params=utils.split(low_perms, 30)\n",
    ")"
   ]
  },
  {
   "cell_type": "code",
   "execution_count": 7,
   "metadata": {},
   "outputs": [
    {
     "name": "stdout",
     "output_type": "stream",
     "text": [
      "DURATION:\t 0.542\n"
     ]
    }
   ],
   "source": [
    "utils.wrapper(\n",
    "    func=process_batch,\n",
    "    params=utils.split(low_perms, 30),\n",
    "    parallel=False\n",
    ")"
   ]
  },
  {
   "cell_type": "code",
   "execution_count": 13,
   "metadata": {},
   "outputs": [
    {
     "name": "stdout",
     "output_type": "stream",
     "text": [
      "DURATION:\t 0.495\n"
     ]
    }
   ],
   "source": [
    "utils.wrapper(\n",
    "    func=process_batch,\n",
    "    params=utils.split(low_perms, 30),\n",
    "    parallel=True\n",
    ")"
   ]
  },
  {
   "cell_type": "markdown",
   "metadata": {},
   "source": [
    "#### HIGH PERMUTATIONS, INCREASING PERMUTATIONS"
   ]
  },
  {
   "cell_type": "code",
   "execution_count": 14,
   "metadata": {},
   "outputs": [
    {
     "name": "stdout",
     "output_type": "stream",
     "text": [
      "DURATION:\t 36.01\n"
     ]
    }
   ],
   "source": [
    "utils.baseline(\n",
    "    func=process_batch,\n",
    "    params=utils.split(high_perms, 100)\n",
    ")"
   ]
  },
  {
   "cell_type": "code",
   "execution_count": 15,
   "metadata": {},
   "outputs": [
    {
     "name": "stdout",
     "output_type": "stream",
     "text": [
      "DURATION:\t 39.277\n"
     ]
    }
   ],
   "source": [
    "utils.wrapper(\n",
    "    func=process_batch,\n",
    "    params=utils.split(high_perms, 100),\n",
    "    parallel=False\n",
    ")"
   ]
  },
  {
   "cell_type": "markdown",
   "metadata": {},
   "source": [
    "#### PARALLEL"
   ]
  },
  {
   "cell_type": "code",
   "execution_count": 8,
   "metadata": {},
   "outputs": [
    {
     "name": "stdout",
     "output_type": "stream",
     "text": [
      "DURATION:\t 16.254\n"
     ]
    }
   ],
   "source": [
    "utils.wrapper(\n",
    "    func=process_batch,\n",
    "    params=utils.split(high_perms, 30),\n",
    "    parallel=True\n",
    ")"
   ]
  },
  {
   "cell_type": "code",
   "execution_count": 9,
   "metadata": {},
   "outputs": [
    {
     "name": "stdout",
     "output_type": "stream",
     "text": [
      "DURATION:\t 14.366\n"
     ]
    }
   ],
   "source": [
    "utils.wrapper(\n",
    "    func=process_batch,\n",
    "    params=utils.split(high_perms, 60),\n",
    "    parallel=True\n",
    ")"
   ]
  },
  {
   "cell_type": "code",
   "execution_count": 10,
   "metadata": {},
   "outputs": [
    {
     "name": "stdout",
     "output_type": "stream",
     "text": [
      "DURATION:\t 11.49\n"
     ]
    }
   ],
   "source": [
    "utils.wrapper(\n",
    "    func=process_batch,\n",
    "    params=utils.split(high_perms, 100),\n",
    "    parallel=True\n",
    ")"
   ]
  },
  {
   "cell_type": "code",
   "execution_count": 11,
   "metadata": {},
   "outputs": [
    {
     "name": "stdout",
     "output_type": "stream",
     "text": [
      "DURATION:\t 9.509\n"
     ]
    }
   ],
   "source": [
    "utils.wrapper(\n",
    "    func=process_batch,\n",
    "    params=utils.split(high_perms, 200),\n",
    "    parallel=True\n",
    ")"
   ]
  },
  {
   "cell_type": "code",
   "execution_count": 12,
   "metadata": {},
   "outputs": [],
   "source": [
    "# RUN IN PARALLEL ON GPU\n",
    "# TRY WITH SORTING ALGOS"
   ]
  },
  {
   "cell_type": "code",
   "execution_count": null,
   "metadata": {},
   "outputs": [],
   "source": []
  },
  {
   "cell_type": "code",
   "execution_count": null,
   "metadata": {},
   "outputs": [],
   "source": []
  },
  {
   "cell_type": "code",
   "execution_count": null,
   "metadata": {},
   "outputs": [],
   "source": []
  },
  {
   "cell_type": "code",
   "execution_count": null,
   "metadata": {},
   "outputs": [],
   "source": []
  }
 ],
 "metadata": {
  "kernelspec": {
   "display_name": "Python 3",
   "language": "python",
   "name": "python3"
  },
  "language_info": {
   "codemirror_mode": {
    "name": "ipython",
    "version": 3
   },
   "file_extension": ".py",
   "mimetype": "text/x-python",
   "name": "python",
   "nbconvert_exporter": "python",
   "pygments_lexer": "ipython3",
   "version": "3.8.10"
  }
 },
 "nbformat": 4,
 "nbformat_minor": 4
}
