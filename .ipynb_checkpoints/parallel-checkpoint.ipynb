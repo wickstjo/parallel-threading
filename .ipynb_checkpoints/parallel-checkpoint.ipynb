{
 "cells": [
  {
   "cell_type": "code",
   "execution_count": 1,
   "metadata": {},
   "outputs": [],
   "source": [
    "import concurrent.futures\n",
    "import time"
   ]
  },
  {
   "cell_type": "markdown",
   "metadata": {},
   "source": [
    "#### TIMER"
   ]
  },
  {
   "cell_type": "code",
   "execution_count": 2,
   "metadata": {},
   "outputs": [],
   "source": [
    "class create_timer():\n",
    "    \n",
    "    # START TIMER\n",
    "    def __init__(self, name):\n",
    "        self.start = time.perf_counter()\n",
    "        print(name, 'STARTED')\n",
    "        self.name = name\n",
    "        \n",
    "    # FINISH TIMER\n",
    "    def finish(self):\n",
    "        self.end = time.perf_counter()\n",
    "        self.difference()\n",
    "\n",
    "    # PRINT DIFFERENCE\n",
    "    def difference(self):\n",
    "        diff = round(self.end-self.start, 3)\n",
    "        print(self.name, 'FINISHED:', diff)"
   ]
  },
  {
   "cell_type": "markdown",
   "metadata": {},
   "source": [
    "#### SHARED FUNC"
   ]
  },
  {
   "cell_type": "code",
   "execution_count": 3,
   "metadata": {},
   "outputs": [],
   "source": [
    "def do_something(params):\n",
    "    \n",
    "    # EXTRACT PARAMS\n",
    "    name, delay = params\n",
    "    \n",
    "    # RUN AND MEASURE TIME\n",
    "    timer = create_timer(name)\n",
    "    time.sleep(delay)\n",
    "    timer.finish()\n",
    "    \n",
    "    return 'return value'"
   ]
  },
  {
   "cell_type": "markdown",
   "metadata": {},
   "source": [
    "#### RUN IN PARALLEL"
   ]
  },
  {
   "cell_type": "code",
   "execution_count": 4,
   "metadata": {},
   "outputs": [],
   "source": [
    "def parallel(func, params):\n",
    "    \n",
    "    # START TIMER\n",
    "    timer = create_timer('RUN')\n",
    "    \n",
    "    # RUN IN PARALLEL\n",
    "    with concurrent.futures.ProcessPoolExecutor() as executor:\n",
    "        results = executor.map(func, params)\n",
    "\n",
    "    # END TIMER\n",
    "    timer.finish()"
   ]
  },
  {
   "cell_type": "code",
   "execution_count": 5,
   "metadata": {},
   "outputs": [],
   "source": [
    "params = [\n",
    "    ('\\tFOO', 1),\n",
    "    ('\\tBAR', 2),\n",
    "    ('\\tBIZ', 3),\n",
    "]"
   ]
  },
  {
   "cell_type": "code",
   "execution_count": 6,
   "metadata": {},
   "outputs": [
    {
     "name": "stdout",
     "output_type": "stream",
     "text": [
      "RUN STARTED\n",
      "\tFOO STARTED\n",
      "\tBIZ STARTED\n",
      "\tBAR STARTED\n",
      "\tFOO FINISHED: 1.002\n",
      "\tBAR FINISHED: 2.003\n",
      "\tBIZ FINISHED: 3.003\n",
      "RUN FINISHED: 3.08\n"
     ]
    }
   ],
   "source": [
    "parallel(do_something, params)"
   ]
  },
  {
   "cell_type": "code",
   "execution_count": null,
   "metadata": {},
   "outputs": [],
   "source": []
  },
  {
   "cell_type": "code",
   "execution_count": null,
   "metadata": {},
   "outputs": [],
   "source": []
  },
  {
   "cell_type": "code",
   "execution_count": null,
   "metadata": {},
   "outputs": [],
   "source": []
  },
  {
   "cell_type": "code",
   "execution_count": null,
   "metadata": {},
   "outputs": [],
   "source": []
  },
  {
   "cell_type": "code",
   "execution_count": null,
   "metadata": {},
   "outputs": [],
   "source": []
  },
  {
   "cell_type": "code",
   "execution_count": null,
   "metadata": {},
   "outputs": [],
   "source": []
  },
  {
   "cell_type": "code",
   "execution_count": null,
   "metadata": {},
   "outputs": [],
   "source": []
  },
  {
   "cell_type": "code",
   "execution_count": null,
   "metadata": {},
   "outputs": [],
   "source": []
  },
  {
   "cell_type": "code",
   "execution_count": null,
   "metadata": {},
   "outputs": [],
   "source": []
  },
  {
   "cell_type": "code",
   "execution_count": null,
   "metadata": {},
   "outputs": [],
   "source": []
  },
  {
   "cell_type": "code",
   "execution_count": null,
   "metadata": {},
   "outputs": [],
   "source": []
  },
  {
   "cell_type": "code",
   "execution_count": null,
   "metadata": {},
   "outputs": [],
   "source": []
  },
  {
   "cell_type": "code",
   "execution_count": null,
   "metadata": {},
   "outputs": [],
   "source": []
  },
  {
   "cell_type": "code",
   "execution_count": null,
   "metadata": {},
   "outputs": [],
   "source": []
  }
 ],
 "metadata": {
  "kernelspec": {
   "display_name": "Python 3",
   "language": "python",
   "name": "python3"
  },
  "language_info": {
   "codemirror_mode": {
    "name": "ipython",
    "version": 3
   },
   "file_extension": ".py",
   "mimetype": "text/x-python",
   "name": "python",
   "nbconvert_exporter": "python",
   "pygments_lexer": "ipython3",
   "version": "3.8.10"
  }
 },
 "nbformat": 4,
 "nbformat_minor": 4
}
