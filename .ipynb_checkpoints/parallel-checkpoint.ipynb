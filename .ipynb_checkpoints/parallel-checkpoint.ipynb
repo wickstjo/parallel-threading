{
 "cells": [
  {
   "cell_type": "code",
   "execution_count": 21,
   "metadata": {},
   "outputs": [],
   "source": [
    "import concurrent.futures\n",
    "from multiprocessing import Lock, cpu_count\n",
    "import time\n",
    "import hashlib\n",
    "import string\n",
    "import itertools"
   ]
  },
  {
   "cell_type": "code",
   "execution_count": 2,
   "metadata": {},
   "outputs": [],
   "source": [
    "import matplotlib.pyplot as plt\n",
    "import plotly.graph_objs as go"
   ]
  },
  {
   "cell_type": "markdown",
   "metadata": {},
   "source": [
    "#### VISUALIZE DATA"
   ]
  },
  {
   "cell_type": "code",
   "execution_count": 3,
   "metadata": {},
   "outputs": [],
   "source": [
    "def plt_visualize(dataset):\n",
    "    \n",
    "    # LABELS\n",
    "    labels = [x for x in range(len(dataset))]\n",
    "\n",
    "    plt.figure(figsize=(16, 6))\n",
    "    plt.plot(labels, dataset, linestyle='-', marker='')\n",
    "        \n",
    "    plt.grid(True)\n",
    "    plt.show()"
   ]
  },
  {
   "cell_type": "code",
   "execution_count": 4,
   "metadata": {},
   "outputs": [],
   "source": [
    "def plotly_g(dataset):\n",
    "    \n",
    "    # CREATE LABELS\n",
    "    labels = [x for x in range(len(dataset))]\n",
    "\n",
    "    # PLOT CONTAINER\n",
    "    structure = []\n",
    "    \n",
    "    # LINE COLOURS\n",
    "    colors = ['#e75f5b', '#52af52', '#403638', '#a93581', '#005073', '#f2ae42']\n",
    "    \n",
    "    # APPEND DOT CHART\n",
    "    structure.append(go.Scatter(\n",
    "        mode='line',\n",
    "        x=labels,\n",
    "        y=dataset,\n",
    "        line=dict(width=1),\n",
    "        marker=dict(color=colors[0]),\n",
    "        opacity=0.6,\n",
    "        yaxis='y2'\n",
    "    ))\n",
    "        \n",
    "\n",
    "    # LAYOUT PARAMS\n",
    "    layout = go.Layout(\n",
    "        yaxis = dict(domain = [0, 0.2],\n",
    "        showticklabels=False),\n",
    "        margin=dict(l=20, r=20, t=20, b=20)\n",
    "    )\n",
    "    \n",
    "    # CREATE THE FIGURE\n",
    "    fig = go.Figure(\n",
    "        data=structure,\n",
    "        layout=layout\n",
    "    )\n",
    "    \n",
    "    # FINALLY SHOW THE GRAPH\n",
    "    fig.show()"
   ]
  },
  {
   "cell_type": "markdown",
   "metadata": {},
   "source": [
    "#### TIMER"
   ]
  },
  {
   "cell_type": "code",
   "execution_count": 5,
   "metadata": {},
   "outputs": [],
   "source": [
    "class create_timer():\n",
    "    \n",
    "    # START TIMER\n",
    "    def __init__(self, name):\n",
    "        self.start = time.perf_counter()\n",
    "        \n",
    "    # FINISH TIMER\n",
    "    def finish(self):\n",
    "        self.end = time.perf_counter()\n",
    "        self.difference()\n",
    "\n",
    "    # PRINT DIFFERENCE\n",
    "    def difference(self):\n",
    "        self.delta = round(self.end-self.start, 3)"
   ]
  },
  {
   "cell_type": "code",
   "execution_count": 6,
   "metadata": {},
   "outputs": [],
   "source": [
    "def parse_results(results):\n",
    "    \n",
    "    # HELPER VARS\n",
    "    labels = []\n",
    "    summa = 0\n",
    "    length = 0\n",
    "    \n",
    "    # COMPUTE SUM\n",
    "    for timestamp, delta in results:\n",
    "        \n",
    "        # PUSH TO CONTAINERS\n",
    "        labels.append(timestamp)\n",
    "        \n",
    "        summa += delta\n",
    "        length += 1\n",
    "        \n",
    "    # COMPUTE AVG\n",
    "    avg = summa / length\n",
    "    \n",
    "    return round(avg, 3), labels"
   ]
  },
  {
   "cell_type": "markdown",
   "metadata": {},
   "source": [
    "#### RUNTIME WRAPPER"
   ]
  },
  {
   "cell_type": "code",
   "execution_count": 7,
   "metadata": {},
   "outputs": [],
   "source": [
    "def wrapper(func, params, parallel=False):\n",
    "    \n",
    "    # USE MULTI-THREADING BY DEFAULT\n",
    "    method = concurrent.futures.ThreadPoolExecutor\n",
    "    \n",
    "    # USE PARALLEL PROCESSING WHEN REQUESTED\n",
    "    if parallel:\n",
    "        method = concurrent.futures.ProcessPoolExecutor\n",
    "        \n",
    "    # CREATE MUTEX\n",
    "    # mutex = Lock()\n",
    "    # mutex.acquire()\n",
    "    # mutex.release()\n",
    "    \n",
    "    # START TIMER\n",
    "    timer = create_timer('WRAPPER')\n",
    "    \n",
    "    # EXECUTE FUNCS\n",
    "    with method() as executor:\n",
    "        results = executor.map(func, params)\n",
    "\n",
    "    # END TIMER\n",
    "    timer.finish()\n",
    "    \n",
    "    # AVG TIME PER PROCESS\n",
    "    avg = timer.delta / len(params)\n",
    "    \n",
    "    show(timer.delta, avg)"
   ]
  },
  {
   "cell_type": "code",
   "execution_count": 8,
   "metadata": {},
   "outputs": [],
   "source": [
    "def baseline(func, params):\n",
    "    \n",
    "    # START TIMER\n",
    "    timer = create_timer('BASELINE')\n",
    "\n",
    "    # RUN EACH PARAM\n",
    "    for value in params:\n",
    "        block = func(value)\n",
    "\n",
    "    # END TIMER\n",
    "    timer.finish()\n",
    "    \n",
    "    # AVG TIME PER PROCESS\n",
    "    avg = timer.delta / len(params)\n",
    "    \n",
    "    show(timer.delta, avg)"
   ]
  },
  {
   "cell_type": "code",
   "execution_count": 9,
   "metadata": {},
   "outputs": [],
   "source": [
    "def show(total, avg):\n",
    "    print('TOTAL:\\t', round(total, 3))\n",
    "    print('AVG:\\t', round(avg, 3))"
   ]
  },
  {
   "cell_type": "markdown",
   "metadata": {},
   "source": [
    "#### SHARED PROCESSES"
   ]
  },
  {
   "cell_type": "code",
   "execution_count": 10,
   "metadata": {},
   "outputs": [],
   "source": [
    "def delayed_func(input_string):\n",
    "    \n",
    "    # ENCODE AND HASH\n",
    "    encoded = input_string.encode('utf-8')\n",
    "    hashed = hashlib.sha256(encoded).hexdigest()\n",
    "    \n",
    "    time.sleep(0.01)\n",
    "\n",
    "    #if hashed == 'foo':\n",
    "    #    print('match found:', hashed)"
   ]
  },
  {
   "cell_type": "code",
   "execution_count": 11,
   "metadata": {},
   "outputs": [],
   "source": [
    "def hash_recurs(input_string, n_times=4000):\n",
    "    \n",
    "    # FORMAT\n",
    "    encoder_format = 'utf-8'\n",
    "    \n",
    "    # ENCODE INITIAL DATA\n",
    "    output = input_string.encode(encoder_format)\n",
    "    \n",
    "    # HASH RECURSIVELY\n",
    "    for _ in range(n_times):\n",
    "        output = hashlib.sha256(output).hexdigest().encode(encoder_format)\n",
    "        \n",
    "    return output.decode(encoder_format)"
   ]
  },
  {
   "cell_type": "markdown",
   "metadata": {},
   "source": [
    "#### PASSWORD PERMUTATIONS"
   ]
  },
  {
   "cell_type": "code",
   "execution_count": 12,
   "metadata": {},
   "outputs": [],
   "source": [
    "def generate_passwords(charset, length):\n",
    "\n",
    "    # CONTAINER\n",
    "    container = []\n",
    "    \n",
    "    # LOOP THROUGH EACH PERMUTATION\n",
    "    for combination in itertools.product(*[charset] * length):  \n",
    "        word = ''.join(combination)\n",
    "        container.append(word)\n",
    "        \n",
    "    return container"
   ]
  },
  {
   "cell_type": "code",
   "execution_count": 13,
   "metadata": {
    "scrolled": true
   },
   "outputs": [],
   "source": [
    "permutations = generate_passwords(\n",
    "    charset=string.digits + string.ascii_lowercase,\n",
    "    length=2\n",
    ")"
   ]
  },
  {
   "cell_type": "markdown",
   "metadata": {},
   "source": [
    "#### PROCESS WITH ARTIFICIAL DELAY -- THREADING BOUND?"
   ]
  },
  {
   "cell_type": "code",
   "execution_count": 14,
   "metadata": {},
   "outputs": [
    {
     "name": "stdout",
     "output_type": "stream",
     "text": [
      "TOTAL:\t 13.152\n",
      "AVG:\t 0.01\n"
     ]
    }
   ],
   "source": [
    "baseline(\n",
    "    func=delayed_func,\n",
    "    params=permutations\n",
    ")"
   ]
  },
  {
   "cell_type": "code",
   "execution_count": 15,
   "metadata": {
    "scrolled": false
   },
   "outputs": [
    {
     "name": "stdout",
     "output_type": "stream",
     "text": [
      "TOTAL:\t 1.782\n",
      "AVG:\t 0.001\n"
     ]
    }
   ],
   "source": [
    "wrapper(\n",
    "    func=delayed_func,\n",
    "    params=permutations,\n",
    "    parallel=True\n",
    ")"
   ]
  },
  {
   "cell_type": "code",
   "execution_count": 16,
   "metadata": {
    "scrolled": false
   },
   "outputs": [
    {
     "name": "stdout",
     "output_type": "stream",
     "text": [
      "TOTAL:\t 1.118\n",
      "AVG:\t 0.001\n"
     ]
    }
   ],
   "source": [
    "wrapper(\n",
    "    func=delayed_func,\n",
    "    params=permutations,\n",
    "    parallel=False\n",
    ")"
   ]
  },
  {
   "cell_type": "markdown",
   "metadata": {},
   "source": [
    "#### PROCESS WITH RECURSIVE HASHING -- CPU BOUND"
   ]
  },
  {
   "cell_type": "code",
   "execution_count": 17,
   "metadata": {},
   "outputs": [
    {
     "name": "stdout",
     "output_type": "stream",
     "text": [
      "TOTAL:\t 3.858\n",
      "AVG:\t 0.003\n"
     ]
    }
   ],
   "source": [
    "baseline(\n",
    "    func=hash_recurs,\n",
    "    params=permutations\n",
    ")"
   ]
  },
  {
   "cell_type": "code",
   "execution_count": 18,
   "metadata": {},
   "outputs": [
    {
     "name": "stdout",
     "output_type": "stream",
     "text": [
      "TOTAL:\t 0.606\n",
      "AVG:\t 0.0\n"
     ]
    }
   ],
   "source": [
    "wrapper(\n",
    "    func=hash_recurs,\n",
    "    params=permutations,\n",
    "    parallel=True\n",
    ")"
   ]
  },
  {
   "cell_type": "code",
   "execution_count": 20,
   "metadata": {},
   "outputs": [
    {
     "name": "stdout",
     "output_type": "stream",
     "text": [
      "TOTAL:\t 6.471\n",
      "AVG:\t 0.005\n"
     ]
    }
   ],
   "source": [
    "wrapper(\n",
    "    func=hash_recurs,\n",
    "    params=permutations,\n",
    "    parallel=False\n",
    ")"
   ]
  },
  {
   "cell_type": "code",
   "execution_count": null,
   "metadata": {},
   "outputs": [],
   "source": []
  },
  {
   "cell_type": "code",
   "execution_count": null,
   "metadata": {},
   "outputs": [],
   "source": []
  }
 ],
 "metadata": {
  "kernelspec": {
   "display_name": "Python 3",
   "language": "python",
   "name": "python3"
  },
  "language_info": {
   "codemirror_mode": {
    "name": "ipython",
    "version": 3
   },
   "file_extension": ".py",
   "mimetype": "text/x-python",
   "name": "python",
   "nbconvert_exporter": "python",
   "pygments_lexer": "ipython3",
   "version": "3.8.10"
  }
 },
 "nbformat": 4,
 "nbformat_minor": 4
}
