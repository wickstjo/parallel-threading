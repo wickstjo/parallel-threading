{
 "cells": [
  {
   "cell_type": "code",
   "execution_count": 1,
   "metadata": {},
   "outputs": [],
   "source": [
    "import concurrent.futures\n",
    "from multiprocessing import Lock\n",
    "import time\n",
    "import hashlib"
   ]
  },
  {
   "cell_type": "code",
   "execution_count": 2,
   "metadata": {},
   "outputs": [],
   "source": [
    "import matplotlib.pyplot as plt\n",
    "import plotly.graph_objs as go"
   ]
  },
  {
   "cell_type": "markdown",
   "metadata": {},
   "source": [
    "#### VISUALIZE DATA"
   ]
  },
  {
   "cell_type": "code",
   "execution_count": 82,
   "metadata": {},
   "outputs": [],
   "source": [
    "def plt_visualize(dataset):\n",
    "    \n",
    "    # LABELS\n",
    "    labels = [x for x in range(len(dataset))]\n",
    "\n",
    "    plt.figure(figsize=(16, 6))\n",
    "    plt.plot(labels, dataset, linestyle='-', marker='')\n",
    "        \n",
    "    plt.grid(True)\n",
    "    plt.show()"
   ]
  },
  {
   "cell_type": "code",
   "execution_count": 43,
   "metadata": {},
   "outputs": [],
   "source": [
    "def plotly_g(dataset):\n",
    "    \n",
    "    # CREATE LABELS\n",
    "    labels = [x for x in range(len(dataset))]\n",
    "\n",
    "    # PLOT CONTAINER\n",
    "    structure = []\n",
    "    \n",
    "    # LINE COLOURS\n",
    "    colors = ['#e75f5b', '#52af52', '#403638', '#a93581', '#005073', '#f2ae42']\n",
    "    \n",
    "    # APPEND DOT CHART\n",
    "    structure.append(go.Scatter(\n",
    "        mode='line',\n",
    "        x=labels,\n",
    "        y=dataset,\n",
    "        line=dict(width=1),\n",
    "        marker=dict(color=colors[0]),\n",
    "        opacity=0.6,\n",
    "        yaxis='y2'\n",
    "    ))\n",
    "        \n",
    "\n",
    "    # LAYOUT PARAMS\n",
    "    layout = go.Layout(\n",
    "        yaxis = dict(domain = [0, 0.2],\n",
    "        showticklabels=False),\n",
    "        margin=dict(l=20, r=20, t=20, b=20)\n",
    "    )\n",
    "    \n",
    "    # CREATE THE FIGURE\n",
    "    fig = go.Figure(\n",
    "        data=structure,\n",
    "        layout=layout\n",
    "    )\n",
    "    \n",
    "    # FINALLY SHOW THE GRAPH\n",
    "    fig.show()"
   ]
  },
  {
   "cell_type": "markdown",
   "metadata": {},
   "source": [
    "#### TIMER"
   ]
  },
  {
   "cell_type": "code",
   "execution_count": 22,
   "metadata": {},
   "outputs": [],
   "source": [
    "class create_timer():\n",
    "    \n",
    "    # START TIMER\n",
    "    def __init__(self, name):\n",
    "        self.start = time.perf_counter()\n",
    "        \n",
    "    # FINISH TIMER\n",
    "    def finish(self):\n",
    "        self.end = time.perf_counter()\n",
    "        self.difference()\n",
    "\n",
    "    # PRINT DIFFERENCE\n",
    "    def difference(self):\n",
    "        self.delta = round(self.end-self.start, 3)"
   ]
  },
  {
   "cell_type": "code",
   "execution_count": 34,
   "metadata": {},
   "outputs": [],
   "source": [
    "def parse_results(results):\n",
    "    \n",
    "    # HELPER VARS\n",
    "    labels = []\n",
    "    summa = 0\n",
    "    length = 0\n",
    "    \n",
    "    # COMPUTE SUM\n",
    "    for timestamp, delta in results:\n",
    "        \n",
    "        # PUSH TO CONTAINERS\n",
    "        labels.append(timestamp)\n",
    "        \n",
    "        summa += delta\n",
    "        length += 1\n",
    "        \n",
    "    # COMPUTE AVG\n",
    "    avg = summa / length\n",
    "    \n",
    "    return round(avg, 3), labels"
   ]
  },
  {
   "cell_type": "markdown",
   "metadata": {},
   "source": [
    "#### RUNTIME WRAPPER"
   ]
  },
  {
   "cell_type": "code",
   "execution_count": 35,
   "metadata": {},
   "outputs": [],
   "source": [
    "def wrapper(func, params, parallel=False):\n",
    "    \n",
    "    # USE MULTI-THREADING BY DEFAULT\n",
    "    method = concurrent.futures.ThreadPoolExecutor\n",
    "    \n",
    "    # USE PARALLEL PROCESSING WHEN REQUESTED\n",
    "    if parallel:\n",
    "        method = concurrent.futures.ProcessPoolExecutor\n",
    "        \n",
    "    # CREATE MUTEX\n",
    "    # mutex = Lock()\n",
    "    # mutex.acquire()\n",
    "    # mutex.release()\n",
    "    \n",
    "    # START TIMER\n",
    "    timer = create_timer('RUN')\n",
    "    \n",
    "    # EXECUTE FUNCS\n",
    "    with method() as executor:\n",
    "        results = executor.map(func, params)\n",
    "\n",
    "    # END TIMER\n",
    "    timer.finish()\n",
    "    \n",
    "    # PARSE RESULTS\n",
    "    avg, labels = parse_results(results)\n",
    "    \n",
    "    return timer.delta, avg, labels"
   ]
  },
  {
   "cell_type": "markdown",
   "metadata": {},
   "source": [
    "#### SHARED PROCESS"
   ]
  },
  {
   "cell_type": "code",
   "execution_count": 109,
   "metadata": {},
   "outputs": [],
   "source": [
    "def do_something(name):\n",
    "    \n",
    "    # START TIMER\n",
    "    timer = create_timer(name)\n",
    "    \n",
    "    # ACTION\n",
    "    hash_recurs(name, 4000)\n",
    "    #time.sleep(1)\n",
    "    \n",
    "    # END TIMER\n",
    "    timer.finish()\n",
    "    \n",
    "    return (timer.end, timer.delta)"
   ]
  },
  {
   "cell_type": "code",
   "execution_count": 96,
   "metadata": {},
   "outputs": [],
   "source": [
    "def hash_recurs(data, n_times):\n",
    "    \n",
    "    # FORMAT\n",
    "    encoder_format = 'utf-8'\n",
    "    \n",
    "    # ENCODE INITIAL DATA\n",
    "    output = data.encode(encoder_format)\n",
    "    \n",
    "    # HASH RECURSIVELY\n",
    "    for _ in range(n_times):\n",
    "        output = hashlib.sha256(output).hexdigest().encode(encoder_format)\n",
    "        \n",
    "    return output.decode(encoder_format)"
   ]
  },
  {
   "cell_type": "markdown",
   "metadata": {},
   "source": [
    "#### ONE-BY-ONE -- BASELINE"
   ]
  },
  {
   "cell_type": "code",
   "execution_count": 97,
   "metadata": {},
   "outputs": [],
   "source": [
    "iterations = 1000"
   ]
  },
  {
   "cell_type": "code",
   "execution_count": 99,
   "metadata": {},
   "outputs": [],
   "source": [
    "timer = create_timer('foo')\n",
    "results = []\n",
    "\n",
    "for index in range(iterations):\n",
    "    block = do_something(str(index))\n",
    "    results.append(block)\n",
    "    \n",
    "timer.finish()\n",
    "avg, _ = parse_results(results)"
   ]
  },
  {
   "cell_type": "code",
   "execution_count": 100,
   "metadata": {},
   "outputs": [
    {
     "name": "stdout",
     "output_type": "stream",
     "text": [
      "TOTAL:\t 0.003\n",
      "TOTAL:\t 2.676\n"
     ]
    }
   ],
   "source": [
    "print('TOTAL:\\t', avg)\n",
    "print('TOTAL:\\t', timer.delta)"
   ]
  },
  {
   "cell_type": "code",
   "execution_count": 101,
   "metadata": {},
   "outputs": [
    {
     "data": {
      "image/png": "[encoded data removed]",
      "text/plain": [
       "<Figure size 1152x432 with 1 Axes>"
      ]
     },
     "metadata": {
      "needs_background": "light"
     },
     "output_type": "display_data"
    }
   ],
   "source": [
    "plt_visualize(results)"
   ]
  },
  {
   "cell_type": "markdown",
   "metadata": {},
   "source": [
    "#### IN PARALLEL"
   ]
  },
  {
   "cell_type": "code",
   "execution_count": 63,
   "metadata": {
    "scrolled": true
   },
   "outputs": [],
   "source": [
    "total, avg, para_dataset = wrapper(\n",
    "    func=do_something,\n",
    "    params=[str(x) for x in range(iterations)],\n",
    "    parallel=True\n",
    ")"
   ]
  },
  {
   "cell_type": "code",
   "execution_count": 64,
   "metadata": {
    "scrolled": true
   },
   "outputs": [
    {
     "name": "stdout",
     "output_type": "stream",
     "text": [
      "AVG:\t 0.003\n",
      "TOTAL:\t 0.502\n"
     ]
    }
   ],
   "source": [
    "print('AVG:\\t', avg)\n",
    "print('TOTAL:\\t', total)"
   ]
  },
  {
   "cell_type": "code",
   "execution_count": 84,
   "metadata": {
    "scrolled": false
   },
   "outputs": [
    {
     "data": {
      "image/png": "[encoded data removed]",
      "text/plain": [
       "<Figure size 1152x432 with 1 Axes>"
      ]
     },
     "metadata": {
      "needs_background": "light"
     },
     "output_type": "display_data"
    }
   ],
   "source": [
    "plt_visualize(para_dataset)"
   ]
  },
  {
   "cell_type": "markdown",
   "metadata": {},
   "source": [
    "#### MULTI THREADING"
   ]
  },
  {
   "cell_type": "code",
   "execution_count": 66,
   "metadata": {
    "scrolled": true
   },
   "outputs": [],
   "source": [
    "total, avg, thread_dataset = wrapper(\n",
    "    func=do_something,\n",
    "    params=[str(x) for x in range(iterations)],\n",
    "    parallel=False\n",
    ")"
   ]
  },
  {
   "cell_type": "code",
   "execution_count": 67,
   "metadata": {},
   "outputs": [
    {
     "name": "stdout",
     "output_type": "stream",
     "text": [
      "AVG:\t 0.033\n",
      "TOTAL:\t 3.372\n"
     ]
    }
   ],
   "source": [
    "print('AVG:\\t', avg)\n",
    "print('TOTAL:\\t', total)"
   ]
  },
  {
   "cell_type": "code",
   "execution_count": 83,
   "metadata": {
    "scrolled": false
   },
   "outputs": [
    {
     "data": {
      "image/png": "[encoded data removed]",
      "text/plain": [
       "<Figure size 1152x432 with 1 Axes>"
      ]
     },
     "metadata": {
      "needs_background": "light"
     },
     "output_type": "display_data"
    }
   ],
   "source": [
    "plt_visualize(thread_dataset)"
   ]
  },
  {
   "cell_type": "code",
   "execution_count": null,
   "metadata": {},
   "outputs": [],
   "source": []
  },
  {
   "cell_type": "code",
   "execution_count": null,
   "metadata": {},
   "outputs": [],
   "source": []
  },
  {
   "cell_type": "code",
   "execution_count": null,
   "metadata": {},
   "outputs": [],
   "source": []
  },
  {
   "cell_type": "code",
   "execution_count": null,
   "metadata": {},
   "outputs": [],
   "source": []
  }
 ],
 "metadata": {
  "kernelspec": {
   "display_name": "Python 3",
   "language": "python",
   "name": "python3"
  },
  "language_info": {
   "codemirror_mode": {
    "name": "ipython",
    "version": 3
   },
   "file_extension": ".py",
   "mimetype": "text/x-python",
   "name": "python",
   "nbconvert_exporter": "python",
   "pygments_lexer": "ipython3",
   "version": "3.8.10"
  }
 },
 "nbformat": 4,
 "nbformat_minor": 4
}
